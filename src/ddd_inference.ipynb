{
 "cells": [
  {
   "cell_type": "code",
   "execution_count": 1,
   "id": "cf15f80f",
   "metadata": {},
   "outputs": [],
   "source": [
    "import _init_paths\n",
    "\n",
    "from tqdm import tqdm\n",
    "import cv2\n",
    "import torch\n",
    "import numpy as np\n",
    "import os\n",
    "\n",
    "import pandas as pd\n",
    "from detectors.detector_factory import detector_factory\n",
    "from datasets.dataset_factory import get_dataset\n",
    "from models.decode import ddd_decode\n",
    "from utils.debugger import Debugger\n",
    "from opts import opts\n",
    "\n",
    "from matplotlib import pyplot as plt"
   ]
  },
  {
   "cell_type": "code",
   "execution_count": 2,
   "id": "d869bec2",
   "metadata": {},
   "outputs": [],
   "source": [
    "from shutil import rmtree"
   ]
  },
  {
   "cell_type": "code",
   "execution_count": 3,
   "id": "3cd750f9",
   "metadata": {},
   "outputs": [],
   "source": [
    "from utils.image import transform_preds\n",
    "from utils.post_process import get_alpha"
   ]
  },
  {
   "cell_type": "code",
   "execution_count": 42,
   "id": "52588e36",
   "metadata": {},
   "outputs": [],
   "source": [
    "MODEL_PATH = '../models/redsnapper_512_base_model.pth'\n",
    "TASK = 'ddd'\n",
    "DATASET = 'kitti'\n",
    "IMG_PATH = '../data/kitti/images/trainval/000079.jpg'"
   ]
  },
  {
   "cell_type": "code",
   "execution_count": 43,
   "id": "d12358b8",
   "metadata": {},
   "outputs": [
    {
     "name": "stdout",
     "output_type": "stream",
     "text": [
      "Fix size testing.\n",
      "training chunk_sizes: [32]\n",
      "The output will be saved to  /home/alfin/Documents/deep_learning/production/CenterNet_fish/src/lib/../../exp/ddd/default\n",
      "heads {'hm': 3, 'dep': 1, 'rot': 8, 'dim': 3, 'wh': 2, 'reg': 2}\n",
      "heads {'hm': 3, 'dep': 1, 'rot': 8, 'dim': 3, 'wh': 2, 'reg': 2}\n",
      "Creating model...\n",
      "loaded ../models/redsnapper_512_base_model.pth, epoch 70\n"
     ]
    }
   ],
   "source": [
    "Dataset = get_dataset(DATASET, TASK)\n",
    "\n",
    "# config init\n",
    "opt = opts().init('{} --load_model {}'.format(TASK, MODEL_PATH).split(' '))\n",
    "opt = opts().update_dataset_info_and_set_heads(opt, Dataset)\n",
    "\n",
    "detector = detector_factory[opt.task](opt)\n",
    "debugger = Debugger(dataset=detector.opt.dataset, ipynb=(detector.opt.debug==3),\n",
    "                        theme=detector.opt.debugger_theme)"
   ]
  },
  {
   "cell_type": "code",
   "execution_count": 44,
   "id": "4e1d6956",
   "metadata": {},
   "outputs": [],
   "source": [
    "img_ori = cv2.imread(IMG_PATH)\n",
    "img_ori = cv2.resize(img_ori,(512,512))\n",
    "\n",
    "img = img_ori.copy()\n",
    "\n",
    "img_input, meta = detector.pre_process(img, detector.scales)\n",
    "img_input = img_input.to(detector.opt.device)"
   ]
  },
  {
   "cell_type": "code",
   "execution_count": 45,
   "id": "7751d690",
   "metadata": {},
   "outputs": [],
   "source": [
    "# Manual"
   ]
  },
  {
   "cell_type": "code",
   "execution_count": 46,
   "id": "8a6820d4",
   "metadata": {},
   "outputs": [],
   "source": [
    "torch.no_grad()\n",
    "torch.cuda.synchronize()"
   ]
  },
  {
   "cell_type": "code",
   "execution_count": 47,
   "id": "1939c612",
   "metadata": {},
   "outputs": [],
   "source": [
    "output = detector.model(img_input)[-1]"
   ]
  },
  {
   "cell_type": "code",
   "execution_count": 48,
   "id": "5832e596",
   "metadata": {},
   "outputs": [
    {
     "data": {
      "text/plain": [
       "dict_keys(['hm', 'dep', 'rot', 'dim', 'wh', 'reg'])"
      ]
     },
     "execution_count": 48,
     "metadata": {},
     "output_type": "execute_result"
    }
   ],
   "source": [
    "output['hm'] = output['hm'].sigmoid_()\n",
    "output['dep'] = 1. / (output['dep'].sigmoid() + 1e-6) - 1.\n",
    "wh = output['wh'] if detector.opt.reg_bbox else None\n",
    "reg = output['reg'] if detector.opt.reg_offset else None\n",
    "torch.cuda.synchronize()\n",
    "\n",
    "output.keys()"
   ]
  },
  {
   "cell_type": "code",
   "execution_count": 49,
   "id": "ced39c98",
   "metadata": {},
   "outputs": [
    {
     "name": "stdout",
     "output_type": "stream",
     "text": [
      "hm torch.Size([1, 3, 128, 128])\n",
      "dep torch.Size([1, 1, 128, 128])\n",
      "rot torch.Size([1, 8, 128, 128])\n",
      "dim torch.Size([1, 3, 128, 128])\n",
      "wh torch.Size([1, 2, 128, 128])\n",
      "reg torch.Size([1, 2, 128, 128])\n"
     ]
    }
   ],
   "source": [
    "for key in output.keys():\n",
    "    print(key,output[key].shape)\n",
    "    \n",
    "# 96 = 384/4"
   ]
  },
  {
   "cell_type": "code",
   "execution_count": 50,
   "id": "71762f4a",
   "metadata": {},
   "outputs": [
    {
     "data": {
      "text/plain": [
       "(1, 100, 18)"
      ]
     },
     "execution_count": 50,
     "metadata": {},
     "output_type": "execute_result"
    }
   ],
   "source": [
    "# [xs, ys, scores, rot, depth, dim, wh, clses], dim=2)\n",
    "# 0 xs\n",
    "# 1 ys\n",
    "# 2 scores\n",
    "# 3-10 rot\n",
    "# 11 depth\n",
    "# 12-14 dim\n",
    "# 15 w\n",
    "# 16 h\n",
    "# 17 class\n",
    "\n",
    "# [xs, ys, scores, rot, depth, dim, wh, clses], dim=2)\n",
    "# 0 xs\n",
    "# 1 ys\n",
    "# 2 scores\n",
    "# 3-34 rot\n",
    "# 35 depth\n",
    "# 36-38 dim\n",
    "# 39 w\n",
    "# 40 h\n",
    "# 41 class\n",
    "\n",
    "\n",
    "dets = ddd_decode(output['hm'], output['rot'], output['dep'],\n",
    "                          output['dim'], wh=wh, reg=reg, K=detector.opt.K)\n",
    "dets = dets.detach().cpu().numpy()\n",
    "dets.shape"
   ]
  },
  {
   "cell_type": "code",
   "execution_count": 51,
   "id": "205a1009",
   "metadata": {},
   "outputs": [],
   "source": [
    "# 2D Detection\n",
    "# 0 xs\n",
    "  # 1 ys\n",
    "  # 2 scores\n",
    "  # 3-18 rot\n",
    "  # 19 depth\n",
    "  # 20-22 dim\n",
    "  # 23 w\n",
    "  # 24 h\n",
    "  # 25 class"
   ]
  },
  {
   "cell_type": "code",
   "execution_count": 52,
   "id": "29f65904",
   "metadata": {},
   "outputs": [],
   "source": [
    "# 0 xs\n",
    "# 1 ys\n",
    "# 2 scores\n",
    "# 3-10 rot\n",
    "# 11 depth\n",
    "# 12-14 dim\n",
    "# 15 w\n",
    "# 16 h\n",
    "# 17 class"
   ]
  },
  {
   "cell_type": "code",
   "execution_count": 53,
   "id": "963d8fc3",
   "metadata": {},
   "outputs": [
    {
     "name": "stdout",
     "output_type": "stream",
     "text": [
      "345 367 506 506 [0.34372354, 0.6559192, 0.32578817] 0.92536783\n",
      "145 305 224 350 [0.31569967, 0.5646548, 0.35125038] 1.7004001\n",
      "192 5 243 70 [0.34478456, 0.605911, 0.38628384] 1.8572767\n",
      "464 0 507 73 [0.31856436, 0.53638107, 0.40404] 1.2552798\n",
      "429 342 508 467 [0.35691935, 0.66851324, 0.3070911] 1.3274362\n",
      "263 0 320 78 [0.33820558, 0.67341226, 0.2685587] 2.3076878\n",
      "230 138 273 209 [0.37924635, 0.7368785, 0.32887653] 2.7059157\n"
     ]
    }
   ],
   "source": [
    "down_ratio = debugger.down_ratio\n",
    "\n",
    "for det in dets[0]:\n",
    "    scores = det[2]\n",
    "    class_name = int(det[-1])\n",
    "    \n",
    "    cx = int(det[0] * down_ratio)\n",
    "    cy = int(det[1] * down_ratio)\n",
    "    \n",
    "    w = det[15] * down_ratio\n",
    "    h = det[16] * down_ratio\n",
    "    \n",
    "    xmin = int(cx - w/2)\n",
    "    ymin = int(cy - h/2)\n",
    "    xmax = int(cx + w/2)\n",
    "    ymax = int(cy + h/2)\n",
    "    \n",
    "    dim = list(det[12:15])\n",
    "    \n",
    "    depth = det[11]\n",
    "    \n",
    "    rot = det[3:11].reshape((1,8))\n",
    "    if scores > 0.3:\n",
    "#         merged = list()\n",
    "#         merged += [xmin,ymin,xmax,ymax]\n",
    "#         merged += (dim)\n",
    "#         merged.append(depth)\n",
    "#         merged.append(list(get_alpha(rot))[0])\n",
    "#         merged.append(list(get_alpha(rot,is_alphay=True))[0])\n",
    "#         merged.append(get_alpha(rot,is_alphay=True))\n",
    "#         print(xmin,ymin,xmax,ymax)\n",
    "#         print(depth)\n",
    "#         print(get_alpha(rot))\n",
    "#         print(get_alpha(rot,is_alphay=True))\n",
    "#         print(merged)\n",
    "#         print('')\n",
    "        print(xmin,ymin,xmax,ymax,dim,depth)\n",
    "        img = cv2.rectangle(img,(xmin,ymin),(xmax,ymax), (255,0,0), 2)\n",
    "        img = cv2.circle(img, (cx,cy), radius=3, color=(0, 0, 255), thickness=-1)"
   ]
  },
  {
   "cell_type": "code",
   "execution_count": 54,
   "id": "a32b0241",
   "metadata": {},
   "outputs": [
    {
     "data": {
      "text/plain": [
       "109.24987454877126"
      ]
     },
     "execution_count": 54,
     "metadata": {},
     "output_type": "execute_result"
    }
   ],
   "source": [
    "np.degrees(6.078107018266813) - np.degrees(4.171337)"
   ]
  },
  {
   "cell_type": "code",
   "execution_count": null,
   "id": "4085fbe3",
   "metadata": {},
   "outputs": [],
   "source": []
  },
  {
   "cell_type": "code",
   "execution_count": 55,
   "id": "a896e6e5",
   "metadata": {},
   "outputs": [
    {
     "data": {
      "image/png": "[encoded data removed]",
      "text/plain": [
       "<Figure size 432x288 with 1 Axes>"
      ]
     },
     "metadata": {
      "needs_background": "light"
     },
     "output_type": "display_data"
    }
   ],
   "source": [
    "plt.imshow(img[...,::-1])\n",
    "plt.show()"
   ]
  },
  {
   "cell_type": "code",
   "execution_count": 56,
   "id": "63fa9614",
   "metadata": {},
   "outputs": [],
   "source": [
    "# 3D Detection"
   ]
  },
  {
   "cell_type": "code",
   "execution_count": 57,
   "id": "5bece21f",
   "metadata": {},
   "outputs": [
    {
     "data": {
      "text/plain": [
       "array([  0,   2,   4,   6,   8,  10,  12,  14,  16,  18,  20,  22,  24,\n",
       "        26,  28,  30,  32,  34,  36,  38,  40,  42,  44,  46,  48,  50,\n",
       "        52,  54,  56,  58,  60,  62,  64,  66,  68,  70,  72,  74,  76,\n",
       "        78,  80,  82,  84,  86,  88,  90,  92,  94,  96,  98, 100, 102,\n",
       "       104, 106, 108, 110, 112, 114, 116, 118, 120, 122, 124, 126, 128,\n",
       "       130, 132, 134, 136, 138, 140, 142, 144, 146, 148, 150, 152, 154,\n",
       "       156, 158, 160, 162, 164, 166, 168, 170, 172, 174, 176, 178, 180,\n",
       "       182, 184, 186, 188, 190, 192, 194, 196, 198])"
      ]
     },
     "execution_count": 57,
     "metadata": {},
     "output_type": "execute_result"
    }
   ],
   "source": [
    "idx = np.arange(100) * (np.arange(100) > 50)\n",
    "aa = np.arange(100) \n",
    "bb = np.arange(100)*2\n",
    "bb"
   ]
  },
  {
   "cell_type": "code",
   "execution_count": 58,
   "id": "d944bc78",
   "metadata": {},
   "outputs": [
    {
     "data": {
      "text/plain": [
       "array([    0,     2,     4,     6,     8,    10,    12,    14,    16,\n",
       "          18,    20,    22,    24,    26,    28,    30,    32,    34,\n",
       "          36,    38,    40,    42,    44,    46,    48,    50,    52,\n",
       "          54,    56,    58,    60,    62,    64,    66,    68,    70,\n",
       "          72,    74,    76,    78,    80,    82,    84,    86,    88,\n",
       "          90,    92,    94,    96,    98,   100, -2499, -2600, -2703,\n",
       "       -2808, -2915, -3024, -3135, -3248, -3363, -3480, -3599, -3720,\n",
       "       -3843, -3968, -4095, -4224, -4355, -4488, -4623, -4760, -4899,\n",
       "       -5040, -5183, -5328, -5475, -5624, -5775, -5928, -6083, -6240,\n",
       "       -6399, -6560, -6723, -6888, -7055, -7224, -7395, -7568, -7743,\n",
       "       -7920, -8099, -8280, -8463, -8648, -8835, -9024, -9215, -9408,\n",
       "       -9603])"
      ]
     },
     "execution_count": 58,
     "metadata": {},
     "output_type": "execute_result"
    }
   ],
   "source": [
    "aa*idx + bb*(1-idx)"
   ]
  },
  {
   "cell_type": "code",
   "execution_count": null,
   "id": "83c1ae54",
   "metadata": {},
   "outputs": [],
   "source": []
  },
  {
   "cell_type": "code",
   "execution_count": 59,
   "id": "c1043b92",
   "metadata": {},
   "outputs": [
    {
     "name": "stderr",
     "output_type": "stream",
     "text": [
      "  2%|█▌                                                               | 7/300 [00:00<00:09, 30.05it/s]"
     ]
    },
    {
     "name": "stdout",
     "output_type": "stream",
     "text": [
      "1\n",
      "5\n"
     ]
    },
    {
     "name": "stderr",
     "output_type": "stream",
     "text": [
      "  5%|███▏                                                            | 15/300 [00:00<00:09, 31.27it/s]"
     ]
    },
    {
     "name": "stdout",
     "output_type": "stream",
     "text": [
      "8\n",
      "10\n"
     ]
    },
    {
     "name": "stderr",
     "output_type": "stream",
     "text": [
      "  8%|████▉                                                           | 23/300 [00:00<00:08, 31.75it/s]"
     ]
    },
    {
     "name": "stdout",
     "output_type": "stream",
     "text": [
      "16\n",
      "17\n",
      "21\n"
     ]
    },
    {
     "name": "stderr",
     "output_type": "stream",
     "text": [
      "\r",
      "  9%|█████▊                                                          | 27/300 [00:00<00:08, 31.96it/s]"
     ]
    },
    {
     "name": "stdout",
     "output_type": "stream",
     "text": [
      "23\n",
      "28\n"
     ]
    },
    {
     "name": "stderr",
     "output_type": "stream",
     "text": [
      " 16%|██████████                                                      | 47/300 [00:01<00:07, 32.72it/s]"
     ]
    },
    {
     "name": "stdout",
     "output_type": "stream",
     "text": [
      "43\n",
      "45\n"
     ]
    },
    {
     "name": "stderr",
     "output_type": "stream",
     "text": [
      " 18%|███████████▋                                                    | 55/300 [00:01<00:07, 32.52it/s]"
     ]
    },
    {
     "name": "stdout",
     "output_type": "stream",
     "text": [
      "50\n",
      "52\n",
      "53\n"
     ]
    },
    {
     "name": "stderr",
     "output_type": "stream",
     "text": [
      " 21%|█████████████▍                                                  | 63/300 [00:01<00:07, 31.88it/s]"
     ]
    },
    {
     "name": "stdout",
     "output_type": "stream",
     "text": [
      "58\n",
      "63\n"
     ]
    },
    {
     "name": "stderr",
     "output_type": "stream",
     "text": [
      " 24%|███████████████▏                                                | 71/300 [00:02<00:07, 31.43it/s]"
     ]
    },
    {
     "name": "stdout",
     "output_type": "stream",
     "text": [
      "65\n",
      "68\n"
     ]
    },
    {
     "name": "stderr",
     "output_type": "stream",
     "text": [
      " 26%|████████████████▊                                               | 79/300 [00:02<00:06, 32.32it/s]"
     ]
    },
    {
     "name": "stdout",
     "output_type": "stream",
     "text": [
      "72\n",
      "75\n"
     ]
    },
    {
     "name": "stderr",
     "output_type": "stream",
     "text": [
      "\r",
      " 28%|█████████████████▋                                              | 83/300 [00:02<00:06, 32.25it/s]"
     ]
    },
    {
     "name": "stdout",
     "output_type": "stream",
     "text": [
      "79\n",
      "82\n"
     ]
    },
    {
     "name": "stderr",
     "output_type": "stream",
     "text": [
      " 32%|████████████████████▎                                           | 95/300 [00:02<00:06, 32.52it/s]"
     ]
    },
    {
     "name": "stdout",
     "output_type": "stream",
     "text": [
      "91\n",
      "93\n",
      "94\n",
      "96\n"
     ]
    },
    {
     "name": "stderr",
     "output_type": "stream",
     "text": [
      " 36%|██████████████████████▍                                        | 107/300 [00:03<00:05, 32.90it/s]"
     ]
    },
    {
     "name": "stdout",
     "output_type": "stream",
     "text": [
      "101\n",
      "102\n",
      "103\n"
     ]
    },
    {
     "name": "stderr",
     "output_type": "stream",
     "text": [
      " 38%|████████████████████████▏                                      | 115/300 [00:03<00:05, 32.61it/s]"
     ]
    },
    {
     "name": "stdout",
     "output_type": "stream",
     "text": [
      "108\n",
      "113\n",
      "114\n"
     ]
    },
    {
     "name": "stderr",
     "output_type": "stream",
     "text": [
      " 42%|██████████████████████████▋                                    | 127/300 [00:03<00:05, 31.80it/s]"
     ]
    },
    {
     "name": "stdout",
     "output_type": "stream",
     "text": [
      "120\n",
      "121\n"
     ]
    },
    {
     "name": "stderr",
     "output_type": "stream",
     "text": [
      " 45%|████████████████████████████▎                                  | 135/300 [00:04<00:05, 31.91it/s]"
     ]
    },
    {
     "name": "stdout",
     "output_type": "stream",
     "text": [
      "128\n",
      "130\n",
      "132\n",
      "134\n"
     ]
    },
    {
     "name": "stderr",
     "output_type": "stream",
     "text": [
      "\r",
      " 46%|█████████████████████████████▏                                 | 139/300 [00:04<00:05, 31.59it/s]"
     ]
    },
    {
     "name": "stdout",
     "output_type": "stream",
     "text": [
      "135\n",
      "137\n",
      "138\n"
     ]
    },
    {
     "name": "stderr",
     "output_type": "stream",
     "text": [
      " 49%|██████████████████████████████▊                                | 147/300 [00:04<00:04, 31.67it/s]"
     ]
    },
    {
     "name": "stdout",
     "output_type": "stream",
     "text": [
      "142\n",
      "145\n",
      "147\n"
     ]
    },
    {
     "name": "stderr",
     "output_type": "stream",
     "text": [
      " 52%|████████████████████████████████▌                              | 155/300 [00:04<00:04, 31.17it/s]"
     ]
    },
    {
     "name": "stdout",
     "output_type": "stream",
     "text": [
      "149\n",
      "152\n",
      "153\n"
     ]
    },
    {
     "name": "stderr",
     "output_type": "stream",
     "text": [
      " 56%|███████████████████████████████████                            | 167/300 [00:05<00:04, 31.62it/s]"
     ]
    },
    {
     "name": "stdout",
     "output_type": "stream",
     "text": [
      "160\n"
     ]
    },
    {
     "name": "stderr",
     "output_type": "stream",
     "text": [
      " 58%|████████████████████████████████████▊                          | 175/300 [00:05<00:03, 31.27it/s]"
     ]
    },
    {
     "name": "stdout",
     "output_type": "stream",
     "text": [
      "169\n",
      "170\n",
      "174\n"
     ]
    },
    {
     "name": "stderr",
     "output_type": "stream",
     "text": [
      " 61%|██████████████████████████████████████▍                        | 183/300 [00:05<00:03, 31.34it/s]"
     ]
    },
    {
     "name": "stdout",
     "output_type": "stream",
     "text": [
      "178\n",
      "184\n"
     ]
    },
    {
     "name": "stderr",
     "output_type": "stream",
     "text": [
      " 64%|████████████████████████████████████████                       | 191/300 [00:05<00:03, 31.94it/s]"
     ]
    },
    {
     "name": "stdout",
     "output_type": "stream",
     "text": [
      "186\n",
      "188\n",
      "191\n",
      "192\n"
     ]
    },
    {
     "name": "stderr",
     "output_type": "stream",
     "text": [
      " 66%|█████████████████████████████████████████▊                     | 199/300 [00:06<00:03, 32.36it/s]"
     ]
    },
    {
     "name": "stdout",
     "output_type": "stream",
     "text": [
      "193\n",
      "196\n"
     ]
    },
    {
     "name": "stderr",
     "output_type": "stream",
     "text": [
      " 69%|███████████████████████████████████████████▍                   | 207/300 [00:06<00:02, 32.65it/s]"
     ]
    },
    {
     "name": "stdout",
     "output_type": "stream",
     "text": [
      "203\n",
      "205\n",
      "206\n"
     ]
    },
    {
     "name": "stderr",
     "output_type": "stream",
     "text": [
      " 73%|█████████████████████████████████████████████▉                 | 219/300 [00:06<00:02, 32.82it/s]"
     ]
    },
    {
     "name": "stdout",
     "output_type": "stream",
     "text": [
      "212\n",
      "214\n"
     ]
    },
    {
     "name": "stderr",
     "output_type": "stream",
     "text": [
      " 77%|████████████████████████████████████████████████▌              | 231/300 [00:07<00:02, 31.64it/s]"
     ]
    },
    {
     "name": "stdout",
     "output_type": "stream",
     "text": [
      "225\n",
      "228\n"
     ]
    },
    {
     "name": "stderr",
     "output_type": "stream",
     "text": [
      " 81%|███████████████████████████████████████████████████            | 243/300 [00:07<00:01, 32.31it/s]"
     ]
    },
    {
     "name": "stdout",
     "output_type": "stream",
     "text": [
      "236\n",
      "241\n"
     ]
    },
    {
     "name": "stderr",
     "output_type": "stream",
     "text": [
      "\r",
      " 82%|███████████████████████████████████████████████████▊           | 247/300 [00:07<00:01, 32.40it/s]"
     ]
    },
    {
     "name": "stdout",
     "output_type": "stream",
     "text": [
      "243\n",
      "245\n"
     ]
    },
    {
     "name": "stderr",
     "output_type": "stream",
     "text": [
      " 85%|█████████████████████████████████████████████████████▌         | 255/300 [00:07<00:01, 32.14it/s]"
     ]
    },
    {
     "name": "stdout",
     "output_type": "stream",
     "text": [
      "250\n"
     ]
    },
    {
     "name": "stderr",
     "output_type": "stream",
     "text": [
      " 89%|████████████████████████████████████████████████████████▎      | 268/300 [00:08<00:01, 24.08it/s]"
     ]
    },
    {
     "name": "stdout",
     "output_type": "stream",
     "text": [
      "262\n",
      "263\n"
     ]
    },
    {
     "name": "stderr",
     "output_type": "stream",
     "text": [
      " 92%|██████████████████████████████████████████████████████████▏    | 277/300 [00:08<00:00, 26.58it/s]"
     ]
    },
    {
     "name": "stdout",
     "output_type": "stream",
     "text": [
      "273\n",
      "275\n"
     ]
    },
    {
     "name": "stderr",
     "output_type": "stream",
     "text": [
      " 94%|███████████████████████████████████████████████████████████▍   | 283/300 [00:09<00:00, 24.76it/s]"
     ]
    },
    {
     "name": "stdout",
     "output_type": "stream",
     "text": [
      "279\n"
     ]
    },
    {
     "name": "stderr",
     "output_type": "stream",
     "text": [
      " 96%|████████████████████████████████████████████████████████████▋  | 289/300 [00:09<00:00, 24.05it/s]"
     ]
    },
    {
     "name": "stdout",
     "output_type": "stream",
     "text": [
      "284\n"
     ]
    },
    {
     "name": "stderr",
     "output_type": "stream",
     "text": [
      "100%|███████████████████████████████████████████████████████████████| 300/300 [00:10<00:00, 29.35it/s]\n"
     ]
    }
   ],
   "source": [
    "img_dirs = '/home/alfin/Documents/deep_learning/fish_conversion/data/20221121_centernet_rxry/KITTI/detection/training/'\n",
    "img_dirs = os.path.join(img_dirs,'all_frames')\n",
    "if os.path.exists(os.path.join(img_dirs,'..','label_inference')):\n",
    "    rmtree(os.path.join(img_dirs,'..','label_inference'))\n",
    "\n",
    "os.makedirs(os.path.join(img_dirs,'..','label_inference'))\n",
    "imgs = os.listdir(img_dirs)[:300]\n",
    "\n",
    "# print(imgs)\n",
    "for idx,img_path in enumerate(tqdm(imgs)):\n",
    "    img_ori = cv2.imread(os.path.join(img_dirs,img_path))\n",
    "    img_ori = cv2.resize(img_ori,(512,512))\n",
    "    \n",
    "    img = img_ori.copy()\n",
    "\n",
    "    img_input, meta = detector.pre_process(img, detector.scales)\n",
    "    img_input = img_input.to(detector.opt.device)\n",
    "\n",
    "    torch.no_grad()\n",
    "    torch.cuda.synchronize()\n",
    "\n",
    "    output = detector.model(img_input)[-1]\n",
    "\n",
    "    output['hm'] = output['hm'].sigmoid_()\n",
    "    output['dep'] = 1. / (output['dep'].sigmoid() + 1e-6) - 1.\n",
    "    wh = output['wh'] if detector.opt.reg_bbox else None\n",
    "    reg = output['reg'] if detector.opt.reg_offset else None\n",
    "    torch.cuda.synchronize()\n",
    "\n",
    "    output.keys()\n",
    "\n",
    "    dets = ddd_decode(output['hm'], output['rot'], output['dep'],\n",
    "                              output['dim'], wh=wh, reg=reg, K=detector.opt.K)\n",
    "    dets = dets.detach().cpu().numpy()\n",
    "\n",
    "    down_ratio = debugger.down_ratio\n",
    "    \n",
    "    out = list()\n",
    "    \n",
    "    for det in dets[0]:\n",
    "        scores = det[2]\n",
    "        class_name = int(det[-1])\n",
    "\n",
    "        cx = int(det[0] * down_ratio)\n",
    "        cy = int(det[1] * down_ratio)\n",
    "\n",
    "        w = det[15] * down_ratio\n",
    "        h = det[16] * down_ratio\n",
    "\n",
    "        xmin = int(cx - w/2)\n",
    "        ymin = int(cy - h/2)\n",
    "        xmax = int(cx + w/2)\n",
    "        ymax = int(cy + h/2)\n",
    "\n",
    "        dim = list(det[12:15])\n",
    "\n",
    "        depth = det[11]\n",
    "\n",
    "        rot = det[3:11].reshape((1,8))\n",
    "        if scores > 0.2:\n",
    "            merged = list()\n",
    "            merged += [xmin,ymin,xmax,ymax]\n",
    "            merged += (dim)\n",
    "            merged.append(depth)\n",
    "            merged.append(list(get_alpha(rot))[0])\n",
    "            merged.append(0)\n",
    "            out.append(merged)\n",
    "        \n",
    "    df = pd.DataFrame(out,columns=['xmin','ymin','xmax','ymax','h','w','l','z','alphay','alphax'])\n",
    "    if len(df)==0:\n",
    "        print(idx)\n",
    "    df.to_csv(os.path.join(img_dirs,'..','label_inference',os.path.splitext(os.path.basename(img_path))[0]+'.txt'),header=False,sep=' ',index=False)\n",
    "        "
   ]
  },
  {
   "cell_type": "code",
   "execution_count": null,
   "id": "db3edac5",
   "metadata": {},
   "outputs": [],
   "source": []
  },
  {
   "cell_type": "code",
   "execution_count": null,
   "id": "cee53525",
   "metadata": {},
   "outputs": [],
   "source": []
  }
 ],
 "metadata": {
  "kernelspec": {
   "display_name": "Python 3 (ipykernel)",
   "language": "python",
   "name": "python3"
  },
  "language_info": {
   "codemirror_mode": {
    "name": "ipython",
    "version": 3
   },
   "file_extension": ".py",
   "mimetype": "text/x-python",
   "name": "python",
   "nbconvert_exporter": "python",
   "pygments_lexer": "ipython3",
   "version": "3.8.13"
  }
 },
 "nbformat": 4,
 "nbformat_minor": 5
}
